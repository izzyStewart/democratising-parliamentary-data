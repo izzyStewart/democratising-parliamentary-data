{
 "cells": [
  {
   "cell_type": "markdown",
   "metadata": {},
   "source": [
    "# Instructions"
   ]
  },
  {
   "cell_type": "markdown",
   "metadata": {},
   "source": [
    "### Project details:\n",
    "\n",
    "Python version 3\n",
    "\n",
    "Python code:\n",
    "- main.ipynb (notebook report)\n",
    "- Spark-linear-regression.ipynb (spark code to be run after main)\n",
    "\n",
    "Python modules:\n",
    "- creatempscores.py\n",
    "- createpartyscores.py\n",
    "- getmps.py\n",
    "- getvotes.py\n",
    "- groupdata.py\n",
    "- kmeans.py\n",
    "- mongodatabase.py\n",
    "\n",
    "Javascript modules: \n",
    "- map-reduce-count.js\n",
    "- map-reduce-pivot.js\n",
    "\n",
    "Code has been run. Find outputs in notebook cells, including the datasets and visualiations. Find the data in /DATA\n",
    "\n",
    "Data taken from data.parliament: http://www.data.parliament.uk/\n",
    "\n",
    "### Packages used\n",
    "\n",
    "- io\n",
    "- requests\n",
    "- pandas \n",
    "- csv\n",
    "- mnis\n",
    "- time\n",
    "- datetime\n",
    "- sys\n",
    "- json\n",
    "- functools \n",
    "- pymongo\n",
    "- numpy\n",
    "- multiprocessing\n",
    "- os\n",
    "- matplotlib\n",
    "- sklearn\n",
    "- pylab\n",
    "- seaborn\n",
    "\n",
    "\n",
    "### Additional setup\n",
    "\n",
    "To run the program you need to have spark and mongodb installed locally."
   ]
  }
 ],
 "metadata": {
  "kernelspec": {
   "display_name": "Python 3",
   "language": "python",
   "name": "python3"
  },
  "language_info": {
   "codemirror_mode": {
    "name": "ipython",
    "version": 3
   },
   "file_extension": ".py",
   "mimetype": "text/x-python",
   "name": "python",
   "nbconvert_exporter": "python",
   "pygments_lexer": "ipython3",
   "version": "3.6.3"
  }
 },
 "nbformat": 4,
 "nbformat_minor": 2
}
