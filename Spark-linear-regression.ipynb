{
 "cells": [
  {
   "cell_type": "markdown",
   "metadata": {},
   "source": [
    "# Spark analysis with MLLIB and linear regression"
   ]
  },
  {
   "cell_type": "markdown",
   "metadata": {},
   "source": [
    "In this notebook I have used the MLLIB package by Spark to perform linear regression on the parliamentary data I have collected. To perform the analysis I will look at two datasets; the first displaying the MPs loyalty scores and the second displaying the three major parties total loyalty score per vote.\n",
    "\n",
    "\n",
    "I will use linear regression on the above datasets to test a set of three hypothesis:\n",
    "\n",
    "1. A relationship exists between the voting loyalty of the Labour party and the Conservative party\n",
    "2. A relationship exists between the voting loyalty of the Labour party and the Liberal Democrat party\n",
    "3. A relationship exists between the loyalty score of an MP and their number of years in service\n"
   ]
  },
  {
   "cell_type": "code",
   "execution_count": 10,
   "metadata": {},
   "outputs": [],
   "source": [
    "# Importing libraries.\n",
    "from pyspark  import SparkContext, SparkConf\n",
    "from pyspark.ml.regression import LinearRegression\n",
    "from pyspark.ml.feature import VectorAssembler\n",
    "from pyspark.ml.evaluation import RegressionEvaluator\n",
    "from pyspark.mllib.evaluation import RegressionMetrics\n",
    "from pyspark.sql import SQLContext\n",
    "from pyspark.ml import Pipeline\n",
    "import pandas as pd\n",
    "import matplotlib.pyplot as plt"
   ]
  },
  {
   "cell_type": "code",
   "execution_count": 11,
   "metadata": {},
   "outputs": [],
   "source": [
    "# Now create the Spark SQL Context, which will let us use RDDs\n",
    "conf = SparkConf().setAppName('Big_Data')\n",
    "sc = SparkContext(conf=conf)\n",
    "sq = SQLContext(sc)"
   ]
  },
  {
   "cell_type": "code",
   "execution_count": 12,
   "metadata": {},
   "outputs": [
    {
     "data": {
      "text/html": [
       "<div>\n",
       "<style scoped>\n",
       "    .dataframe tbody tr th:only-of-type {\n",
       "        vertical-align: middle;\n",
       "    }\n",
       "\n",
       "    .dataframe tbody tr th {\n",
       "        vertical-align: top;\n",
       "    }\n",
       "\n",
       "    .dataframe thead th {\n",
       "        text-align: right;\n",
       "    }\n",
       "</style>\n",
       "<table border=\"1\" class=\"dataframe\">\n",
       "  <thead>\n",
       "    <tr style=\"text-align: right;\">\n",
       "      <th></th>\n",
       "      <th>member_id</th>\n",
       "      <th>score</th>\n",
       "      <th>constituency</th>\n",
       "      <th>date_of_birth</th>\n",
       "      <th>days_service</th>\n",
       "      <th>first_start_date</th>\n",
       "      <th>gender</th>\n",
       "      <th>list_name</th>\n",
       "      <th>party</th>\n",
       "    </tr>\n",
       "  </thead>\n",
       "  <tbody>\n",
       "    <tr>\n",
       "      <th>0</th>\n",
       "      <td>337</td>\n",
       "      <td>0.967858</td>\n",
       "      <td>Harborough</td>\n",
       "      <td>1952-10-26</td>\n",
       "      <td>4693.0</td>\n",
       "      <td>1992-04-09</td>\n",
       "      <td>M</td>\n",
       "      <td>Garnier, Sir Edward</td>\n",
       "      <td>Conservative</td>\n",
       "    </tr>\n",
       "  </tbody>\n",
       "</table>\n",
       "</div>"
      ],
      "text/plain": [
       "   member_id     score constituency date_of_birth  days_service  \\\n",
       "0        337  0.967858   Harborough    1952-10-26        4693.0   \n",
       "\n",
       "  first_start_date gender            list_name         party  \n",
       "0       1992-04-09      M  Garnier, Sir Edward  Conservative  "
      ]
     },
     "execution_count": 12,
     "metadata": {},
     "output_type": "execute_result"
    }
   ],
   "source": [
    "# Reading in csv data for analyses.\n",
    "party_loyalty = pd.read_csv(\"DATA/VOTES-PARTY-LOYALTY.csv\", sep=',', index_col=0, error_bad_lines=False)\n",
    "mp_scores = pd.read_csv(\"DATA/MP_ID_SCORES.csv\", sep=',', index_col=0, error_bad_lines=False)\n",
    "\n",
    "# Checking data from mp_scores\n",
    "mp_scores.head(1)"
   ]
  },
  {
   "cell_type": "code",
   "execution_count": 13,
   "metadata": {},
   "outputs": [
    {
     "data": {
      "text/html": [
       "<div>\n",
       "<style scoped>\n",
       "    .dataframe tbody tr th:only-of-type {\n",
       "        vertical-align: middle;\n",
       "    }\n",
       "\n",
       "    .dataframe tbody tr th {\n",
       "        vertical-align: top;\n",
       "    }\n",
       "\n",
       "    .dataframe thead th {\n",
       "        text-align: right;\n",
       "    }\n",
       "</style>\n",
       "<table border=\"1\" class=\"dataframe\">\n",
       "  <thead>\n",
       "    <tr style=\"text-align: right;\">\n",
       "      <th></th>\n",
       "      <th>uin</th>\n",
       "      <th>lab_score</th>\n",
       "      <th>con_score</th>\n",
       "      <th>ld_score</th>\n",
       "      <th>total</th>\n",
       "      <th>date</th>\n",
       "      <th>title</th>\n",
       "    </tr>\n",
       "  </thead>\n",
       "  <tbody>\n",
       "    <tr>\n",
       "      <th>0</th>\n",
       "      <td>CD:2001-07-04:10</td>\n",
       "      <td>1.0</td>\n",
       "      <td>1.0</td>\n",
       "      <td>1.0</td>\n",
       "      <td>1.0</td>\n",
       "      <td>2001-07-04</td>\n",
       "      <td>European Communities (Amendment) Bill (Programme)</td>\n",
       "    </tr>\n",
       "  </tbody>\n",
       "</table>\n",
       "</div>"
      ],
      "text/plain": [
       "                uin  lab_score  con_score  ld_score  total        date  \\\n",
       "0  CD:2001-07-04:10        1.0        1.0       1.0    1.0  2001-07-04   \n",
       "\n",
       "                                               title  \n",
       "0  European Communities (Amendment) Bill (Programme)  "
      ]
     },
     "execution_count": 13,
     "metadata": {},
     "output_type": "execute_result"
    }
   ],
   "source": [
    "# Checking data from party_loyalty\n",
    "party_loyalty.head(1)"
   ]
  },
  {
   "cell_type": "code",
   "execution_count": 15,
   "metadata": {},
   "outputs": [],
   "source": [
    "# Creating RDDs from dataframes.\n",
    "spark_mps_scores = sq.createDataFrame(mp_scores)\n",
    "spark_party_scores = sq.createDataFrame(party_loyalty)"
   ]
  },
  {
   "cell_type": "code",
   "execution_count": 16,
   "metadata": {},
   "outputs": [],
   "source": [
    "# Split data into training and test datasets.\n",
    "party_test,party_train = spark_party_scores.randomSplit([0.3,0.7], seed=4)\n",
    "mp_test,mp_train = spark_mps_scores.randomSplit([0.3,0.7], seed=4)"
   ]
  },
  {
   "cell_type": "code",
   "execution_count": 17,
   "metadata": {},
   "outputs": [],
   "source": [
    "# Creating Spark vectors for the paramters. \n",
    "\n",
    "# Using conservative and and liberal democrat scores as seperate features.\n",
    "VectorCon = VectorAssembler(inputCols = [\"con_score\"], outputCol = \"features\")\n",
    "VectorLD = VectorAssembler(inputCols = [\"ld_score\"], outputCol = \"features\")\n",
    "\n",
    "# Using days service as a feature from the mp dataset.\n",
    "VectorDS = VectorAssembler(inputCols = [\"days_service\"], outputCol = \"features\")"
   ]
  },
  {
   "cell_type": "code",
   "execution_count": 18,
   "metadata": {},
   "outputs": [],
   "source": [
    "# Creating an object to define the linear model.\n",
    "\n",
    "# Object defined with labour score as the prediction.\n",
    "lr = LinearRegression(predictionCol=\"predicted_lab_score\", labelCol=\"lab_score\", featuresCol=\"features\",regParam=0.1)\n",
    "# Object defined with loyalty score as the prediction.\n",
    "lr2 = LinearRegression(predictionCol=\"predicted_score\", labelCol=\"score\", featuresCol=\"features\",regParam=0.1)"
   ]
  },
  {
   "cell_type": "code",
   "execution_count": 20,
   "metadata": {},
   "outputs": [],
   "source": [
    "# Combine feature and linear model object to pipeline.\n",
    "lrPipeCon = Pipeline(stages=[VectorCon,lr])\n",
    "lrPipeLD = Pipeline(stages=[VectorLD,lr])\n",
    "lrPipeDS = Pipeline(stages=[VectorDS,lr2])"
   ]
  },
  {
   "cell_type": "code",
   "execution_count": 21,
   "metadata": {},
   "outputs": [],
   "source": [
    "# Using the fit function to execute pipeline on training data.\n",
    "lrModelCon = lrPipeCon.fit(party_train)\n",
    "lrModelLD = lrPipeLD.fit(party_train)\n",
    "lrModelDS = lrPipeDS.fit(mp_train)"
   ]
  },
  {
   "cell_type": "code",
   "execution_count": 22,
   "metadata": {},
   "outputs": [],
   "source": [
    "# Baseline effect for each model\n",
    "interCon = lrModelCon.stages[1].intercept \n",
    "interLD = lrModelLD.stages[1].intercept \n",
    "interDS = lrModelDS.stages[1].intercept "
   ]
  },
  {
   "cell_type": "code",
   "execution_count": 23,
   "metadata": {},
   "outputs": [],
   "source": [
    "# With a fit model, we are able to make some predictions using our held-out test data:\n",
    "predCon = lrModelCon.transform(party_test)\n",
    "predLD = lrModelLD.transform(party_test)\n",
    "predDS = lrModelDS.transform(mp_test)"
   ]
  },
  {
   "cell_type": "code",
   "execution_count": 26,
   "metadata": {},
   "outputs": [],
   "source": [
    "# Function to get RMSE and R^2.\n",
    "def get_RMSE(predict_col, label_col, predict, metric):\n",
    "    regEval = RegressionEvaluator(predictionCol=predict_col,labelCol=label_col,metricName=metric)\n",
    "    rmse = regEval.evaluate(predict)\n",
    "    return rmse\n",
    "\n",
    "# Calling above function to retreive results\n",
    "con_rmse = get_RMSE(\"predicted_lab_score\", \"lab_score\", predCon, \"rmse\")\n",
    "ld_rmse = get_RMSE(\"predicted_lab_score\", \"lab_score\", predLD, \"rmse\")\n",
    "ds_rmse = get_RMSE(\"predicted_score\", \"score\", predDS, \"rmse\")\n",
    "con_r2 = get_RMSE(\"predicted_lab_score\", \"lab_score\", predCon, \"r2\")\n",
    "ld_r2 = get_RMSE(\"predicted_lab_score\", \"lab_score\", predLD, \"r2\")\n",
    "ds_r2 = get_RMSE(\"predicted_score\", \"score\", predDS, \"r2\")"
   ]
  },
  {
   "cell_type": "code",
   "execution_count": 30,
   "metadata": {},
   "outputs": [],
   "source": [
    "def print_results(model, baseline, rmse, r2):\n",
    "    print(\"RESULTS FOR THE MODEL PREDICTING \"+model+\" >>\")\n",
    "    print(\"The baseline effect is: \"+str(baseline))\n",
    "    print(\"The models RMSE is: \"+str(rmse))\n",
    "    print(\"The models r2 is: \"+str(r2))    "
   ]
  },
  {
   "cell_type": "markdown",
   "metadata": {},
   "source": [
    "## Metrics and findings"
   ]
  },
  {
   "cell_type": "markdown",
   "metadata": {},
   "source": [
    "Looking at the below metrics I can infer the following:\n",
    "\n",
    "1. None of the three models have a high enough r2 to reject the null hypotheses.\n",
    "2. There is a slight increase in the r2 value of the first to the second model. The could suggest there is a stronger chance of a relationship between the labour loyalty and lib dem loyalty, rather than the labour loyalty and conservative loyalty."
   ]
  },
  {
   "cell_type": "code",
   "execution_count": 31,
   "metadata": {},
   "outputs": [
    {
     "name": "stdout",
     "output_type": "stream",
     "text": [
      "RESULTS FOR THE MODEL PREDICTING LABOUR LOYALTY USING CONSERVATIVE LOYALTY >>\n",
      "The baseline effect is: 0.6552764482422851\n",
      "The models RMSE is: 0.11918314383425618\n",
      "The models r2 is: 0.10356915158700442\n"
     ]
    }
   ],
   "source": [
    "print_results(\"LABOUR LOYALTY USING CONSERVATIVE LOYALTY\", interCon, con_rmse, con_r2)"
   ]
  },
  {
   "cell_type": "code",
   "execution_count": 32,
   "metadata": {},
   "outputs": [
    {
     "name": "stdout",
     "output_type": "stream",
     "text": [
      "RESULTS FOR THE MODEL PREDICTING LABOUR LOYALTY USING LIB DEM LOYALTY >>\n",
      "The baseline effect is: 0.7825971209409588\n",
      "The models RMSE is: 0.11639597042427337\n",
      "The models r2 is: 0.14500611230803995\n"
     ]
    }
   ],
   "source": [
    "print_results(\"LABOUR LOYALTY USING LIB DEM LOYALTY\", interLD, ld_rmse, ld_r2)"
   ]
  },
  {
   "cell_type": "code",
   "execution_count": 33,
   "metadata": {},
   "outputs": [
    {
     "name": "stdout",
     "output_type": "stream",
     "text": [
      "RESULTS FOR THE MODEL PREDICTING MP LOYALTY USING DAYS SERVICE >>\n",
      "The baseline effect is: 0.9323264195682996\n",
      "The models RMSE is: 0.05512485525385629\n",
      "The models r2 is: -0.0033908613087543227\n"
     ]
    }
   ],
   "source": [
    "print_results(\"MP LOYALTY USING DAYS SERVICE\", interDS, ds_rmse, ds_r2)"
   ]
  }
 ],
 "metadata": {
  "kernelspec": {
   "display_name": "Python 3",
   "language": "python",
   "name": "python3"
  },
  "language_info": {
   "codemirror_mode": {
    "name": "ipython",
    "version": 3
   },
   "file_extension": ".py",
   "mimetype": "text/x-python",
   "name": "python",
   "nbconvert_exporter": "python",
   "pygments_lexer": "ipython3",
   "version": "3.6.3"
  }
 },
 "nbformat": 4,
 "nbformat_minor": 2
}
